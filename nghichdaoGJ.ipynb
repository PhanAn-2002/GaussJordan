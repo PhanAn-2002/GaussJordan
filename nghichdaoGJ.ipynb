{
 "cells": [
  {
   "cell_type": "markdown",
   "id": "b1f38f23",
   "metadata": {},
   "source": [
    "<div class=\"alert alert-info\">\n",
    "<h1><center><font color=darkblue>TÌM MA TRẬN NGHỊCH ĐẢO BẰNG GAUSS JORDAN<font></center></h1>\n",
    "\n",
    "\n",
    "</div>"
   ]
  },
  {
   "cell_type": "markdown",
   "id": "cec52556",
   "metadata": {},
   "source": [
    "### <font color=RoyalBlue>Import các thư viện cần thiết:<font>\n",
    "- Numpy để làm việc với mảng\n",
    "- Pandas để làm việc với file dạng csv hoặc xlsx"
   ]
  },
  {
   "cell_type": "code",
   "execution_count": 1,
   "id": "bce23d76",
   "metadata": {},
   "outputs": [],
   "source": [
    "import numpy as np\n",
    "import pandas as pd"
   ]
  },
  {
   "cell_type": "markdown",
   "id": "50923c8b",
   "metadata": {},
   "source": [
    "### <font color=RoyalBlue>Đọc file nghichdao.xlsx <font>\n",
    "và đưa về dạng mảng"
   ]
  },
  {
   "cell_type": "code",
   "execution_count": 2,
   "id": "2467fb92",
   "metadata": {},
   "outputs": [
    {
     "data": {
      "text/html": [
       "<div>\n",
       "<style scoped>\n",
       "    .dataframe tbody tr th:only-of-type {\n",
       "        vertical-align: middle;\n",
       "    }\n",
       "\n",
       "    .dataframe tbody tr th {\n",
       "        vertical-align: top;\n",
       "    }\n",
       "\n",
       "    .dataframe thead th {\n",
       "        text-align: right;\n",
       "    }\n",
       "</style>\n",
       "<table border=\"1\" class=\"dataframe\">\n",
       "  <thead>\n",
       "    <tr style=\"text-align: right;\">\n",
       "      <th></th>\n",
       "      <th>0</th>\n",
       "      <th>1</th>\n",
       "      <th>2</th>\n",
       "    </tr>\n",
       "  </thead>\n",
       "  <tbody>\n",
       "    <tr>\n",
       "      <th>0</th>\n",
       "      <td>50</td>\n",
       "      <td>107</td>\n",
       "      <td>36</td>\n",
       "    </tr>\n",
       "    <tr>\n",
       "      <th>1</th>\n",
       "      <td>25</td>\n",
       "      <td>54</td>\n",
       "      <td>20</td>\n",
       "    </tr>\n",
       "    <tr>\n",
       "      <th>2</th>\n",
       "      <td>31</td>\n",
       "      <td>66</td>\n",
       "      <td>21</td>\n",
       "    </tr>\n",
       "  </tbody>\n",
       "</table>\n",
       "</div>"
      ],
      "text/plain": [
       "    0    1   2\n",
       "0  50  107  36\n",
       "1  25   54  20\n",
       "2  31   66  21"
      ]
     },
     "execution_count": 2,
     "metadata": {},
     "output_type": "execute_result"
    }
   ],
   "source": [
    "df = pd.read_excel('nghichdao.xlsx', header = None)\n",
    "df"
   ]
  },
  {
   "cell_type": "code",
   "execution_count": 3,
   "id": "12f7294c",
   "metadata": {},
   "outputs": [
    {
     "name": "stdout",
     "output_type": "stream",
     "text": [
      "[[ 50 107  36]\n",
      " [ 25  54  20]\n",
      " [ 31  66  21]]\n"
     ]
    }
   ],
   "source": [
    "matrix = df.to_numpy()\n",
    "print(matrix)"
   ]
  },
  {
   "cell_type": "markdown",
   "id": "98b39582",
   "metadata": {},
   "source": [
    "### <font color=RoyalBlue>Khởi tạo một số mảng phụ lưu kết quả <font>\n",
    "- index_row: lưu các hàng của phần tử giải\n",
    "- index_column: lưu các cột của phần tử giải\n",
    "- matrixE: ma trận đơn vị có kích thước n.n\n",
    "- Biến n: lưu kích thước của ma trận"
   ]
  },
  {
   "cell_type": "code",
   "execution_count": 4,
   "id": "dd3cb116",
   "metadata": {},
   "outputs": [
    {
     "name": "stdout",
     "output_type": "stream",
     "text": [
      "3\n"
     ]
    }
   ],
   "source": [
    "n = len(matrix)\n",
    "print(n)"
   ]
  },
  {
   "cell_type": "code",
   "execution_count": 5,
   "id": "6f2c6d75",
   "metadata": {},
   "outputs": [],
   "source": [
    "index_row = []  \n",
    "index_column = []  "
   ]
  },
  {
   "cell_type": "code",
   "execution_count": 6,
   "id": "91361110",
   "metadata": {},
   "outputs": [],
   "source": [
    "matrixE = np.zeros([n,n])\n",
    "for i in range(n):\n",
    "    matrixE[i,i] = 1.0"
   ]
  },
  {
   "cell_type": "markdown",
   "id": "7b9ead55",
   "metadata": {},
   "source": [
    "### <font color=RoyalBlue>Khởi tạo hàm tìm phần tử giải <font>\n",
    "<br>Thuật toán:<br/>\n",
    "- B1: tạo biến pivot_element (phần tử giải), mảng index_temp (mảng cho phần tử có trị tuyệt đối lớn nhất trong hàng.\n",
    "- B2: Cho row chạy tới len(matrix) (kích thước của ma trận $A$)\n",
    "- B3: Kiểm tra nếu hàng này đã có phần tử giải thì bỏ qua\n",
    "- B4: Tìm phần tử có trị tuyệt đối lớn nhất trong hàng\n",
    "- B5: Nếu trong hàng có chứ $1$ hoặc $-1$ chuyển sang bước 6, trái lại chuyển sang bước 9\n",
    "- B6: Chọn làm phần tử giải luôn (gán vào biến pivot_element) và gán row_pivot_element = row\n",
    "- B7: Liệt kê các phần tử có giá trị bằng với giá trị tuyệt đối của pivot_element vào mảng index_temp\n",
    "- B8: Gán lại index_temp là phần tử đầu tiên trong mảng, chuyển tới bước 10\n",
    "- B9: Nếu max_row > pivot_element thì gán pivot_element = max_row, chuyển sang bước 7\n",
    "- B10: Nếu pivot_element $\\neq$ 0 thì thêm row_pivot_element vào mảng index_row, index_temp vào mảng index_column\n",
    "-B11: Ngoài ra nếu pivot_element $\\neq$ 0 thì biến gán vào biến w = 1, trái lại thì là -1."
   ]
  },
  {
   "cell_type": "code",
   "execution_count": 7,
   "id": "30fe2959",
   "metadata": {},
   "outputs": [],
   "source": [
    "def find_pivot_element():\n",
    "    global index_row, index_column, w\n",
    "    index_temp = []\n",
    "    pivot_element = 0\n",
    "    for row in range(0, len(matrix)):\n",
    "        if row in index_row:  # Bỏ qua vì hàng này đã có phần tử giải\n",
    "            continue\n",
    "        max_row = np.amax(abs(matrix[row, 0:(len(matrix[0]))]))  # Tìm phần tử lớn nhất trong hàng row\n",
    "        if (1 in matrix[row, 0:(len(matrix[0]))]) or (\n",
    "                -1 in matrix[row, 0:(len(matrix[0]))]):  # Nếu có 1 hoặc -1 trong hàng row => chọn làm phần tử giải\n",
    "            pivot_element = 1\n",
    "            row_pivot_element = row\n",
    "            index_temp = np.where(abs(matrix[row, 0:(len(matrix[0]))]) == pivot_element)\n",
    "            index_temp = index_temp[:1]\n",
    "            index_temp = index_temp[0][0]\n",
    "            break\n",
    "        elif max_row > pivot_element:  # Lưu giá trị phần tử giải, tìm vị trí trên ma trận\n",
    "            pivot_element = max_row\n",
    "            row_pivot_element = row\n",
    "            index_temp = np.where(abs(matrix[row, 0:(len(matrix[0]))]) ==pivot_element)\n",
    "            index_temp = index_temp[:1]\n",
    "            index_temp = index_temp[0][0]\n",
    "    if pivot_element != 0: # Lưu vị trí hàng và cột của phần tử giải\n",
    "        w = 1\n",
    "        index_row.append(row_pivot_element)\n",
    "        index_column.append(int(index_temp))\n",
    "    else:\n",
    "        w = -1\n",
    "        print(\"Ma trận không khả nghịch!!!!\")\n",
    "#         quit()"
   ]
  },
  {
   "cell_type": "markdown",
   "id": "21f7474d",
   "metadata": {},
   "source": [
    "### <font color=RoyalBlue>Khởi tạo hàm biến đổi ma trận theo pp Gauss Jordan <font>\n",
    "<br>Thuật toán:<br/>\n",
    "- B1: Thực hiện gói tìm phần tử giải\n",
    "- B2: Tạo ma trận không có kích thước đúng bằng ma trận A\n",
    "- B3: Duyệt các dòng, mỗi dòng thực hiện các bước đằng sau\n",
    "- B4: Gán m là $-\\frac{\\alpha_{iq}}{\\alpha_{pq}}$\n",
    "- B5: Nhân vào với $\\alpha_{pj}$ và lưu vào 2 ma trận không là zeros_array và z\n",
    "- B6: Sau khi lưu hết thì cộng zeros_array với ma trận gốc, z cộng với ma trận đơn vị"
   ]
  },
  {
   "cell_type": "code",
   "execution_count": 11,
   "id": "5bc896f4",
   "metadata": {},
   "outputs": [],
   "source": [
    "def Gauss_Jordan_method():\n",
    "    global matrix,matrixE\n",
    "    find_pivot_element()\n",
    "    zeros_array = np.zeros([n,n])  # Tạo 1 ma trận không\n",
    "    z = np.zeros([n,n])  # Tạo 1 ma trận không\n",
    "    for row in range(0, len(matrix)):\n",
    "        if row == index_row[-1]:\n",
    "            continue\n",
    "        m = - matrix[row][index_column[-1]] / matrix[index_row[-1]][index_column[-1]] #Tìm m\n",
    "        zeros_array[row] = matrix[index_row[-1]] * m\n",
    "        z[row] = matrixE[index_row[-1]] * m\n",
    "    matrix = matrix + zeros_array\n",
    "    matrixE = matrixE+z"
   ]
  },
  {
   "cell_type": "markdown",
   "id": "039db959",
   "metadata": {},
   "source": [
    "### <font color=RoyalBlue>Hàm chuẩn hóa hệ số của phần tử giải <font>\n",
    "Để chia hệ số của phần tử giải $=1$"
   ]
  },
  {
   "cell_type": "code",
   "execution_count": 9,
   "id": "901cff48",
   "metadata": {},
   "outputs": [],
   "source": [
    "def normalize_pivot_element():\n",
    "    for i in range(len(index_row)):\n",
    "        matrixE[index_row[i]] = matrixE[index_row[i]] / matrix[index_row[i]][index_column[i]]\n",
    "        matrix[index_row[i]] = matrix[index_row[i]] / matrix[index_row[i]][index_column[i]]"
   ]
  },
  {
   "cell_type": "markdown",
   "id": "9f01a313",
   "metadata": {},
   "source": [
    "### <font color=RoyalBlue>Tạo hàm so sánh nhằm đổi vị trí <font>"
   ]
  },
  {
   "cell_type": "code",
   "execution_count": null,
   "id": "8dd250fe",
   "metadata": {},
   "outputs": [],
   "source": [
    "def sosanh(a, b, n):\n",
    "    check = 0\n",
    "    for i in range(n):\n",
    "        if a[i] > b[i]: return 1\n",
    "        elif a[i] < b[i]: return -1\n",
    "    return  check"
   ]
  },
  {
   "cell_type": "markdown",
   "id": "f71fc56d",
   "metadata": {},
   "source": [
    "### <font color=RoyalBlue>Chương trình chính <font>\n",
    "Thực hiện lần lượt các gói Gauss_Jordan_method() (chạy n lần), chuẩn hóa, sau đó in ra ma trận có khả nghịch hay ko; đổi các hàng để chuẩn hóa ma trận và in ra ma trận nghịch đảo."
   ]
  },
  {
   "cell_type": "code",
   "execution_count": 10,
   "id": "f7c5281f",
   "metadata": {},
   "outputs": [
    {
     "name": "stdout",
     "output_type": "stream",
     "text": [
      "Gauss-Jordan method to find the inversed matrix\n",
      "\n",
      "Ma trận nghịch đảo là:\n",
      "[[-186.  129.  196.]\n",
      " [  95.  -66. -100.]\n",
      " [ -24.   17.   25.]]\n"
     ]
    }
   ],
   "source": [
    "print(\"Gauss-Jordan method to find the inversed matrix\")\n",
    "for i in range(0, n):\n",
    "    Gauss_Jordan_method()\n",
    "normalize_pivot_element()\n",
    "print()\n",
    "if w == -1: exit()\n",
    "else: \n",
    "    for i in range(n):\n",
    "        for j in range(0, n-i-1):\n",
    "            if sosanh(matrix[j],matrix[j+1],n) == -1:\n",
    "                for k in range(n):\n",
    "                    matrix[j,k], matrix[j+1, k] = matrix[j+1, k], matrix[j, k]\n",
    "                    matrixE[j, k], matrixE[j + 1, k] = matrixE[j + 1, k], matrixE[j, k]\n",
    "    print(\"Ma trận nghịch đảo là:\")\n",
    "    print(matrixE)"
   ]
  },
  {
   "cell_type": "code",
   "execution_count": null,
   "id": "b5ef0a92",
   "metadata": {},
   "outputs": [],
   "source": []
  },
  {
   "cell_type": "code",
   "execution_count": null,
   "id": "5acf602f",
   "metadata": {},
   "outputs": [],
   "source": []
  }
 ],
 "metadata": {
  "kernelspec": {
   "display_name": "Python 3 (ipykernel)",
   "language": "python",
   "name": "python3"
  },
  "language_info": {
   "codemirror_mode": {
    "name": "ipython",
    "version": 3
   },
   "file_extension": ".py",
   "mimetype": "text/x-python",
   "name": "python",
   "nbconvert_exporter": "python",
   "pygments_lexer": "ipython3",
   "version": "3.8.12"
  }
 },
 "nbformat": 4,
 "nbformat_minor": 5
}
