{
 "cells": [
  {
   "cell_type": "markdown",
   "id": "0919353d",
   "metadata": {},
   "source": [
    "<div class=\"alert alert-info\">\n",
    "<h1><center><font color=darkblue>GIẢI PHƯƠNG TRÌNH $AX = B$ BẰNG GAUSS JORDAN<font></center></h1>\n",
    "\n",
    "\n",
    "</div>"
   ]
  },
  {
   "cell_type": "markdown",
   "id": "55cfe55f",
   "metadata": {},
   "source": [
    "## <font color=RoyalBlue>Ý tưởng thuật toán:<font>\n",
    "- B1: Tìm hạng của ma trận sau đó nhận xét.\n",
    "- B2: Tìm phần tử giải $\\alpha_{pq}$\n",
    "- B3: Biến đổi ma trận theo công thức: giữ nguyên hàng p, với các hàng còn lại thì ${h_i}={h_i}-\\frac{\\alpha_{iq}}{\\alpha_{pq}}$. Khi đó cột thứ q sẽ bằng 0 tại các phẩn tử khác ngoài phần tử trội.\n",
    "- B4: Thực hiện B2, B3 với các hàng khác\n",
    "- B5: Chuẩn hóa phần tử giải\n",
    "- B6: Đưa ra kết luận và in kết quả."
   ]
  },
  {
   "cell_type": "markdown",
   "id": "bf6802a1",
   "metadata": {},
   "source": [
    "### <font color=RoyalBlue>Import các thư viện cần thiết:<font>\n",
    "- Numpy để làm việc với mảng\n",
    "- Pandas để làm việc với file dạng csv hoặc xlsx"
   ]
  },
  {
   "cell_type": "code",
   "execution_count": 1,
   "id": "d55a37fc",
   "metadata": {},
   "outputs": [],
   "source": [
    "import numpy as np\n",
    "import pandas as pd"
   ]
  },
  {
   "cell_type": "markdown",
   "id": "89cc7e70",
   "metadata": {},
   "source": [
    "### <font color=RoyalBlue>Đọc file matran.xlsx <font>\n",
    "và đưa về dạng mảng"
   ]
  },
  {
   "cell_type": "code",
   "execution_count": 2,
   "id": "79a0c836",
   "metadata": {},
   "outputs": [
    {
     "data": {
      "text/html": [
       "<div>\n",
       "<style scoped>\n",
       "    .dataframe tbody tr th:only-of-type {\n",
       "        vertical-align: middle;\n",
       "    }\n",
       "\n",
       "    .dataframe tbody tr th {\n",
       "        vertical-align: top;\n",
       "    }\n",
       "\n",
       "    .dataframe thead th {\n",
       "        text-align: right;\n",
       "    }\n",
       "</style>\n",
       "<table border=\"1\" class=\"dataframe\">\n",
       "  <thead>\n",
       "    <tr style=\"text-align: right;\">\n",
       "      <th></th>\n",
       "      <th>0</th>\n",
       "      <th>1</th>\n",
       "      <th>2</th>\n",
       "    </tr>\n",
       "  </thead>\n",
       "  <tbody>\n",
       "    <tr>\n",
       "      <th>0</th>\n",
       "      <td>0</td>\n",
       "      <td>0</td>\n",
       "      <td>0</td>\n",
       "    </tr>\n",
       "    <tr>\n",
       "      <th>1</th>\n",
       "      <td>2</td>\n",
       "      <td>4</td>\n",
       "      <td>8</td>\n",
       "    </tr>\n",
       "    <tr>\n",
       "      <th>2</th>\n",
       "      <td>1</td>\n",
       "      <td>2</td>\n",
       "      <td>4</td>\n",
       "    </tr>\n",
       "    <tr>\n",
       "      <th>3</th>\n",
       "      <td>0</td>\n",
       "      <td>0</td>\n",
       "      <td>0</td>\n",
       "    </tr>\n",
       "  </tbody>\n",
       "</table>\n",
       "</div>"
      ],
      "text/plain": [
       "   0  1  2\n",
       "0  0  0  0\n",
       "1  2  4  8\n",
       "2  1  2  4\n",
       "3  0  0  0"
      ]
     },
     "execution_count": 2,
     "metadata": {},
     "output_type": "execute_result"
    }
   ],
   "source": [
    "df = pd.read_excel('matran.xlsx', header = None)\n",
    "df"
   ]
  },
  {
   "cell_type": "code",
   "execution_count": 3,
   "id": "efb3c60d",
   "metadata": {},
   "outputs": [
    {
     "name": "stdout",
     "output_type": "stream",
     "text": [
      "[[0 0 0]\n",
      " [2 4 8]\n",
      " [1 2 4]\n",
      " [0 0 0]]\n"
     ]
    }
   ],
   "source": [
    "matrix = df.to_numpy()\n",
    "print(matrix)"
   ]
  },
  {
   "cell_type": "markdown",
   "id": "eed4b767",
   "metadata": {},
   "source": [
    "### <font color=RoyalBlue>Khởi tạo một số mảng phụ lưu kết quả <font>\n",
    "- index_row: lưu các hàng của phần tử giải\n",
    "- index_column: lưu các cột của phần tử giải\n",
    "- result: ma trận lưu kết quả với các giá trị ban đầu là 0"
   ]
  },
  {
   "cell_type": "code",
   "execution_count": 4,
   "id": "2228c71e",
   "metadata": {},
   "outputs": [],
   "source": [
    "index_row = []  \n",
    "index_column = []  \n",
    "result = np.zeros((len(matrix[0]) - 1, len(matrix[0])))"
   ]
  },
  {
   "cell_type": "code",
   "execution_count": 5,
   "id": "b6a23100",
   "metadata": {},
   "outputs": [
    {
     "name": "stdout",
     "output_type": "stream",
     "text": [
      "[[0 0 0]\n",
      " [2 4 8]\n",
      " [1 2 4]\n",
      " [0 0 0]]\n"
     ]
    }
   ],
   "source": [
    "print(matrix)"
   ]
  },
  {
   "cell_type": "code",
   "execution_count": 6,
   "id": "9f0b925c",
   "metadata": {},
   "outputs": [
    {
     "name": "stdout",
     "output_type": "stream",
     "text": [
      "[[0. 0. 0.]\n",
      " [0. 0. 0.]]\n"
     ]
    }
   ],
   "source": [
    "print(result)"
   ]
  },
  {
   "cell_type": "markdown",
   "id": "ad76fb14",
   "metadata": {},
   "source": [
    "### <font color=RoyalBlue>Khởi tạo hàm tìm phần tử giải <font>\n",
    "<br>Thuật toán:<br/>\n",
    "- B1: tạo biến pivot_element (phần tử giải), mảng index_temp (mảng cho phần tử có trị tuyệt đối lớn nhất trong hàng.\n",
    "- B2: Cho row chạy tới len(matrix) (kích thước của ma trận $A$)\n",
    "- B3: Kiểm tra nếu hàng này đã có phần tử giải thì bỏ qua\n",
    "- B4: Tìm phần tử có trị tuyệt đối lớn nhất trong hàng\n",
    "- B5: Nếu trong hàng có chứ $1$ hoặc $-1$ chuyển sang bước 6, trái lại chuyển sang bước 9\n",
    "- B6: Chọn làm phần tử giải luôn (gán vào biến pivot_element) và gán row_pivot_element = row\n",
    "- B7: Liệt kê các phần tử có giá trị bằng với giá trị tuyệt đối của pivot_element vào mảng index_temp\n",
    "- B8: Gán lại index_temp là phần tử đầu tiên trong mảng, chuyển tới bước 10\n",
    "- B9: Nếu max_row > pivot_element thì gán pivot_element = max_row, chuyển sang bước 7\n",
    "- B10: Nếu pivot_element $\\neq$ 0 thì thêm row_pivot_element vào mảng index_row, index_temp vào mảng index_column"
   ]
  },
  {
   "cell_type": "code",
   "execution_count": 7,
   "id": "2b341672",
   "metadata": {},
   "outputs": [],
   "source": [
    "def find_pivot_element():    \n",
    "    global index_row, index_column\n",
    "    index_temp = []\n",
    "    pivot_element = 0\n",
    "    for row in range(0, len(matrix)):\n",
    "        if row in index_row:\n",
    "            continue  # Bỏ qua vì hàng này đã có phần tử giải\n",
    "        max_row = np.amax(abs(matrix[row, 0:(len(matrix[0]) - 1)]))  # Tìm phần tử lớn nhất trong hàng row\n",
    "        if (1 in matrix[row, 0:(len(matrix[0]) - 1)]) or (-1 in matrix[row, 0:(len(matrix[0]) - 1)]):  # Nếu có 1 hoặc -1 trong hàng row => chọn làm phần tử giải\n",
    "            pivot_element = 1\n",
    "            row_pivot_element = row\n",
    "            index_temp = np.where(abs(matrix[row, 0:(len(matrix[0]) - 1)]) == pivot_element)\n",
    "            index_temp = index_temp[:1]\n",
    "            index_temp = index_temp[0][0]\n",
    "            break\n",
    "        elif max_row > pivot_element:  # Lưu giá trị phần tử giải, tìm vị trí trên ma trận\n",
    "            pivot_element = max_row\n",
    "            row_pivot_element = row\n",
    "            index_temp = np.where(abs(matrix[row, 0:(len(matrix[0]) - 1)]) == pivot_element)\n",
    "            index_temp = index_temp[:1]\n",
    "            index_temp = index_temp[0][0]\n",
    "    if pivot_element != 0:  # Lưu vị trí hàng và cột của phần tử giải\n",
    "        index_row.append(row_pivot_element)\n",
    "        index_column.append(int(index_temp))\n",
    "#         print(\"Phan tu giai: \", round(matrix[index_row[-1]][index_column[-1]], 10))\n",
    "#         print(\"Vi tri: \", index_row[-1] + 1, index_column[-1] + 1)\n",
    "#         print()"
   ]
  },
  {
   "cell_type": "markdown",
   "id": "6c7224d9",
   "metadata": {},
   "source": [
    "### <font color=RoyalBlue>Khởi tạo hàm biến đổi ma trận theo pp Gauss Jordan <font>\n",
    "<br>Thuật toán:<br/>\n",
    "- B1: Thực hiện gói tìm phần tử giải\n",
    "- B2: Tạo ma trận không có kích thước đúng bằng ma trận A\n",
    "- B3: Duyệt các dòng, mỗi dòng thực hiện các bước đằng sau\n",
    "- B4: Gán m là $-\\frac{\\alpha_{iq}}{\\alpha_{pq}}$\n",
    "- B5: Nhân vào với $\\alpha_{pj}$ và lưu vào ma trận không\n",
    "- B6: Sau khi lưu hết thì cộng ma trận không với ma trận gốc"
   ]
  },
  {
   "cell_type": "code",
   "execution_count": 8,
   "id": "44e49382",
   "metadata": {},
   "outputs": [],
   "source": [
    "def Gauss_Jordan_method():\n",
    "    global matrix\n",
    "    find_pivot_element()\n",
    "    zeros_array = np.zeros((len(matrix), len(matrix[0])))  # Tạo 1 ma trận không\n",
    "    for row in range(0, len(matrix)):\n",
    "        if row == index_row[-1]:\n",
    "            continue\n",
    "        m = - matrix[row][index_column[-1]] / matrix[index_row[-1]][index_column[-1]]  # Tìm m\n",
    "        zeros_array[row] = matrix[index_row[-1]] * m\n",
    "#         print(zeros_array)\n",
    "#         print('======================')\n",
    "    matrix = matrix + zeros_array"
   ]
  },
  {
   "cell_type": "markdown",
   "id": "26a3e05d",
   "metadata": {},
   "source": [
    "### <font color=RoyalBlue>Hàm chuẩn hóa hệ số của phần tử giải <font>\n",
    "Để chia hệ số của phần tử giải $=1$"
   ]
  },
  {
   "cell_type": "code",
   "execution_count": 10,
   "id": "0d194826",
   "metadata": {},
   "outputs": [],
   "source": [
    "def normalize_pivot_element():\n",
    "    for i in range(len(index_row)):\n",
    "        matrix[index_row[i]] = matrix[index_row[i]] / matrix[index_row[i]][index_column[i]]"
   ]
  },
  {
   "cell_type": "markdown",
   "id": "bb20bc77",
   "metadata": {},
   "source": [
    "### <font color=RoyalBlue>Hàm kiểm tra hạng của ma trận <font>\n",
    "Để có thể đưa ra nhận xét hệ pt có nghiệm duy nhất, vô số nghiệm hay vô nghiệm\n",
    "<br>Thuật toán:<br/>\n",
    "- B1: Tạo 2 biến rank1 (Hạng của ma trận hệ số A), rank2 (Hạng của ma trận mở rộng)\n",
    "- B2: Duyệt từng dòng trong ma trận hệ số A, với mỗi hàng, trị tuyệt đối lớn nhất trong hàng lớn hơn 0 thì rank1 ++\n",
    "- B3: Áp dụng tương tự B2 cho rank2\n",
    "- B4: Nếu $rank1 < rank2$ thì hệ vô nghiệm\n",
    "- B5: Nếu $rank1 >$ kích thước của matrix thì hệ có vô số nghiệm\n",
    "- B6: Nếu ko phải cả 2 th trên thì hệ có nghiệm duy nhất"
   ]
  },
  {
   "cell_type": "code",
   "execution_count": 11,
   "id": "12e9a66b",
   "metadata": {},
   "outputs": [],
   "source": [
    "def rank():\n",
    "    rank1 = 0  # Hạng của ma trận hệ số A\n",
    "    rank2 = 0  # Hạng của ma trận mở rộng\n",
    "    for row in range(0, len(matrix)):\n",
    "        if np.amax(abs(matrix[row, 0:(len(matrix[0]) - 1)])) > 0:\n",
    "            rank1 = rank1 + 1\n",
    "        if np.amax(abs(matrix[row, 0:len(matrix[0])])) > 0:\n",
    "            rank2 = rank2 + 1\n",
    "    if rank1 < rank2:\n",
    "        print(\"He PT vo nghiem!\")\n",
    "        f=open(\"GJ_output.txt\",\"w\")\n",
    "        f.write(\"He PT vo nghiem!\")\n",
    "        f.close()\n",
    "    elif rank1 < (len(matrix[0]) - 1):\n",
    "        print(\"He PT co vo so nghiem!\")\n",
    "        display_solutions()\n",
    "    else:\n",
    "        print(\"He PT co nghiem duy nhat!\")\n",
    "        display_solutions()\n",
    "        "
   ]
  },
  {
   "cell_type": "markdown",
   "id": "f277fb64",
   "metadata": {},
   "source": [
    "### <font color=RoyalBlue>Hàm in kết quả <font>"
   ]
  },
  {
   "cell_type": "code",
   "execution_count": 12,
   "id": "5ae186b7",
   "metadata": {},
   "outputs": [],
   "source": [
    "def display_solutions():\n",
    "        \n",
    "    global result\n",
    "    for column in range(len(matrix[0]) - 1):\n",
    "        if column in index_column:\n",
    "            vt = index_column.index(column)\n",
    "            result[column][0] = matrix[index_row[vt]][len(matrix[0]) - 1]\n",
    "            for i in range(len(matrix[0]) - 1):\n",
    "                if i not in index_column:\n",
    "                    result[column][i + 1] = -matrix[index_row[vt]][i]\n",
    "        else:\n",
    "            result[column][column + 1] = 1\n",
    "\n",
    "    # In ma trận result ra màn hình\n",
    "    print(result)\n",
    "\n",
    "    # Xuất kết quả ra file output.txt\n",
    "    np.savetxt('GJ_output.txt', result, fmt='%.5f')  # %.5f: lấy 5 chữ số sau dấu phẩy ghi vào file\n"
   ]
  },
  {
   "cell_type": "markdown",
   "id": "a4926ae2",
   "metadata": {},
   "source": [
    "### <font color=RoyalBlue>Chương trình chính <font>"
   ]
  },
  {
   "cell_type": "code",
   "execution_count": 13,
   "id": "9fbe1052",
   "metadata": {
    "scrolled": true
   },
   "outputs": [
    {
     "name": "stdout",
     "output_type": "stream",
     "text": [
      "He PT co vo so nghiem!\n",
      "[[ 4.  0. -2.]\n",
      " [ 0.  0.  1.]]\n"
     ]
    }
   ],
   "source": [
    "for i in range(0, min(len(matrix), len(matrix[0]))):\n",
    "    Gauss_Jordan_method()\n",
    "normalize_pivot_element()\n",
    "rank()"
   ]
  },
  {
   "cell_type": "code",
   "execution_count": null,
   "id": "ea367add",
   "metadata": {},
   "outputs": [],
   "source": []
  }
 ],
 "metadata": {
  "kernelspec": {
   "display_name": "Python 3 (ipykernel)",
   "language": "python",
   "name": "python3"
  },
  "language_info": {
   "codemirror_mode": {
    "name": "ipython",
    "version": 3
   },
   "file_extension": ".py",
   "mimetype": "text/x-python",
   "name": "python",
   "nbconvert_exporter": "python",
   "pygments_lexer": "ipython3",
   "version": "3.8.12"
  }
 },
 "nbformat": 4,
 "nbformat_minor": 5
}
